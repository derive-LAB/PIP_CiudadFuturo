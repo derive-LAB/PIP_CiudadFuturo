{
 "cells": [
  {
   "cell_type": "markdown",
   "metadata": {},
   "source": [
    "# Línea base estaciones MiMacro\n",
    "\n",
    "Generación de plots con la línea base de Mi Macro Periférico"
   ]
  },
  {
   "cell_type": "code",
   "execution_count": 1,
   "metadata": {},
   "outputs": [],
   "source": [
    "import os\n",
    "import sys\n",
    "import osmnx as ox\n",
    "import geopandas as gpd\n",
    "import pandas as pd\n",
    "import matplotlib.pyplot as plt\n",
    "import matplotlib as mpl\n",
    "module_path = os.path.abspath(os.path.join('..'))\n",
    "if module_path not in sys.path:\n",
    "    sys.path.append(module_path)\n",
    "    import aqiGDL\n",
    "import numpy as np\n",
    "%matplotlib inline"
   ]
  },
  {
   "cell_type": "markdown",
   "metadata": {},
   "source": [
    "Colores y estilo de matplotlib a usar"
   ]
  },
  {
   "cell_type": "code",
   "execution_count": 2,
   "metadata": {},
   "outputs": [],
   "source": [
    "plt.style.use('https://github.com/dhaitz/matplotlib-stylesheets/raw/master/pitayasmoothie-dark.mplstyle')\n",
    "colors = ['7A76C2', 'ff6e9c98', 'f62196', '18c0c4', 'f3907e', '66E9EC']"
   ]
  },
  {
   "cell_type": "markdown",
   "metadata": {},
   "source": [
    "## Estaciones y red\n",
    "El siguiente código carga las estaciones de Mi Macro a un GeoDataFrame y la red vial de Guadalajara"
   ]
  },
  {
   "cell_type": "code",
   "execution_count": 3,
   "metadata": {},
   "outputs": [],
   "source": [
    "gdf_est = aqiGDL.gdf_from_db('estaciones_gdl','Estaciones')\n",
    "gdf_est['codigo'] = gdf_est['Name'].apply(lambda x: x.split('.')[0])\n",
    "gdf_est['nombre'] = gdf_est['Name'].apply(lambda x: x.split('. ')[1])\n",
    "gdf_est = ox.project_gdf(gdf_est,to_crs='EPSG:32613')"
   ]
  },
  {
   "cell_type": "code",
   "execution_count": 4,
   "metadata": {},
   "outputs": [],
   "source": [
    "G = ox.graph_from_bbox(20.751857,20.523110,-103.201328,-103.468643)\n",
    "edges = ox.graph_to_gdfs(G, nodes=False)\n",
    "edges = ox.project_gdf(edges,to_crs=gdf_est.crs)"
   ]
  },
  {
   "cell_type": "markdown",
   "metadata": {},
   "source": [
    "## Carga estimaciones\n",
    "La siguiente celda carga las estimaciones de los contaminantes para las estaciones de Mi Macro Periférico, estas estimaciones fueron creadas a partir de los datos disponibles por el Sistema Estatal de Monitoreo  SIMAJ. El cálculo se realizo por medio de interpolar los valores promedios de las estaciones SIMAJ en las estaciones de Mi Macro Periférico, en este momento no se tomaron en cuenta dinámicas ambientales como la disperción de contaminantes por los vientos."
   ]
  },
  {
   "cell_type": "code",
   "execution_count": 5,
   "metadata": {},
   "outputs": [
    {
     "data": {
      "text/html": [
       "<div>\n",
       "<style scoped>\n",
       "    .dataframe tbody tr th:only-of-type {\n",
       "        vertical-align: middle;\n",
       "    }\n",
       "\n",
       "    .dataframe tbody tr th {\n",
       "        vertical-align: top;\n",
       "    }\n",
       "\n",
       "    .dataframe thead th {\n",
       "        text-align: right;\n",
       "    }\n",
       "</style>\n",
       "<table border=\"1\" class=\"dataframe\">\n",
       "  <thead>\n",
       "    <tr style=\"text-align: right;\">\n",
       "      <th></th>\n",
       "      <th>S_ID</th>\n",
       "      <th>S_YEAR</th>\n",
       "      <th>PARAM</th>\n",
       "      <th>EST_MIMACRO</th>\n",
       "      <th>CONC</th>\n",
       "      <th>DESV_EST</th>\n",
       "      <th>LONG</th>\n",
       "      <th>LAT</th>\n",
       "    </tr>\n",
       "  </thead>\n",
       "  <tbody>\n",
       "    <tr>\n",
       "      <th>0</th>\n",
       "      <td>S1</td>\n",
       "      <td>S1-2014</td>\n",
       "      <td>PM10</td>\n",
       "      <td>10</td>\n",
       "      <td>46.044172</td>\n",
       "      <td>11.388455</td>\n",
       "      <td>-103.400806</td>\n",
       "      <td>20.606105</td>\n",
       "    </tr>\n",
       "    <tr>\n",
       "      <th>1</th>\n",
       "      <td>S1</td>\n",
       "      <td>S1-2014</td>\n",
       "      <td>PM10</td>\n",
       "      <td>18</td>\n",
       "      <td>34.317933</td>\n",
       "      <td>8.400739</td>\n",
       "      <td>-103.441604</td>\n",
       "      <td>20.644130</td>\n",
       "    </tr>\n",
       "    <tr>\n",
       "      <th>2</th>\n",
       "      <td>S1</td>\n",
       "      <td>S1-2014</td>\n",
       "      <td>PM10</td>\n",
       "      <td>19</td>\n",
       "      <td>35.698197</td>\n",
       "      <td>8.734699</td>\n",
       "      <td>-103.443536</td>\n",
       "      <td>20.648760</td>\n",
       "    </tr>\n",
       "    <tr>\n",
       "      <th>3</th>\n",
       "      <td>S1</td>\n",
       "      <td>S1-2014</td>\n",
       "      <td>PM10</td>\n",
       "      <td>1</td>\n",
       "      <td>85.862141</td>\n",
       "      <td>29.624801</td>\n",
       "      <td>-103.319783</td>\n",
       "      <td>20.591898</td>\n",
       "    </tr>\n",
       "    <tr>\n",
       "      <th>4</th>\n",
       "      <td>S1</td>\n",
       "      <td>S1-2014</td>\n",
       "      <td>PM10</td>\n",
       "      <td>20</td>\n",
       "      <td>37.633964</td>\n",
       "      <td>9.256137</td>\n",
       "      <td>-103.446802</td>\n",
       "      <td>20.656594</td>\n",
       "    </tr>\n",
       "  </tbody>\n",
       "</table>\n",
       "</div>"
      ],
      "text/plain": [
       "  S_ID   S_YEAR PARAM EST_MIMACRO       CONC   DESV_EST        LONG        LAT\n",
       "0   S1  S1-2014  PM10          10  46.044172  11.388455 -103.400806  20.606105\n",
       "1   S1  S1-2014  PM10          18  34.317933   8.400739 -103.441604  20.644130\n",
       "2   S1  S1-2014  PM10          19  35.698197   8.734699 -103.443536  20.648760\n",
       "3   S1  S1-2014  PM10           1  85.862141  29.624801 -103.319783  20.591898\n",
       "4   S1  S1-2014  PM10          20  37.633964   9.256137 -103.446802  20.656594"
      ]
     },
     "execution_count": 5,
     "metadata": {},
     "output_type": "execute_result"
    }
   ],
   "source": [
    "inicio = '2013-21-31'\n",
    "fin = '2019-12-31'\n",
    "#query = f\"SELECT * FROM data.mimacro_data_day WHERE \\\"FECHA\\\" between \\'{inicio}\\' and \\'{fin}\\'\"\n",
    "query = f\"SELECT * FROM data.mimacro_data_week\"\n",
    "df = aqiGDL.df_from_query(query)\n",
    "#df['FECHA'] = pd.to_datetime(df['FECHA']).dt.date\n",
    "#df.sort_values(by=['FECHA'], inplace=True)\n",
    "df.head(5)"
   ]
  },
  {
   "cell_type": "markdown",
   "metadata": {},
   "source": [
    "Red base de Guadalajara"
   ]
  },
  {
   "cell_type": "code",
   "execution_count": 6,
   "metadata": {},
   "outputs": [],
   "source": [
    "df_week = df"
   ]
  },
  {
   "cell_type": "code",
   "execution_count": 12,
   "metadata": {},
   "outputs": [],
   "source": [
    "errors = []\n",
    "for est in df_week.EST_MIMACRO.unique().tolist():\n",
    "    fig, axes = plt.subplots(2,3,figsize=(24,14), sharex=True)\n",
    "    for param, ax, color in zip(df_week.PARAM.unique().tolist(), axes.flatten()[1:], colors):\n",
    "        df_temp = df_week[(df_week['EST_MIMACRO']==est) & (df_week['PARAM']==param)]\n",
    "        ax.plot(df_temp['S_YEAR'], df_temp['CONC'], label=param, color='#'+color)\n",
    "        #rellena el espacio entre desviaciones estandar\n",
    "        ax.fill_between(range(len(df_temp)), \n",
    "                               df_temp['DESV_EST']*-1+df_temp['CONC'], \n",
    "                                df_temp['DESV_EST']*1+df_temp['CONC'], \n",
    "                               facecolor='#9ddc9b', \n",
    "                               alpha=0.25)\n",
    "\n",
    "        ax.set_title(param,fontsize=20)\n",
    "        ax.tick_params(axis='x',labelrotation=45)\n",
    "        x_ticks = np.arange(0, len(df_temp['S_YEAR']),15)\n",
    "        for i in range(0,3):\n",
    "            plt.sca(axes[1, i])\n",
    "            plt.xticks(x_ticks, horizontalalignment=\"right\");\n",
    "            \n",
    "    a00 = axes[0,0]\n",
    "    shax = a00.get_shared_x_axes()\n",
    "    shax.remove(a00)\n",
    "    edges.plot(ax=axes[0][0], color='#e8e9eb',linewidth=0.1, zorder=-1)\n",
    "    edges[(edges['highway']=='primary') | (edges['highway']=='secondary')].plot(ax=axes[0][0], color='#e8e9eb',linewidth=0.5, zorder=0)\n",
    "    gdf_est.plot(ax=axes[0][0], color='k', alpha=0.85, zorder=1)\n",
    "    gdf_est[gdf_est['codigo']==est].plot(ax=axes[0][0], color='#ba0d38', alpha=0.85, zorder=2, markersize=150)\n",
    "    axes[0][0].axis('off')\n",
    "    estacion = gdf_est[gdf_est['codigo']==est]['nombre'].values[0]\n",
    "    fecha_1 = '2014-01-01'\n",
    "    fecha_2 = '2019-12-31'\n",
    "    fig.suptitle(f'Estación {estacion}\\n{fecha_1} -- {fecha_2}', fontsize=30)\n",
    "    plt.savefig(f'../output/figures/estmacro/{est}_{fecha_1}_{fecha_2}.png',dpi=300)\n",
    "    plt.close()"
   ]
  },
  {
   "cell_type": "code",
   "execution_count": null,
   "metadata": {},
   "outputs": [],
   "source": []
  }
 ],
 "metadata": {
  "kernelspec": {
   "display_name": "Python 3",
   "language": "python",
   "name": "python3"
  },
  "language_info": {
   "codemirror_mode": {
    "name": "ipython",
    "version": 3
   },
   "file_extension": ".py",
   "mimetype": "text/x-python",
   "name": "python",
   "nbconvert_exporter": "python",
   "pygments_lexer": "ipython3",
   "version": "3.8.3"
  }
 },
 "nbformat": 4,
 "nbformat_minor": 4
}
