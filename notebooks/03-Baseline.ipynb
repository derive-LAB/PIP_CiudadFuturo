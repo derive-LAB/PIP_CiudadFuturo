{
 "cells": [
  {
   "cell_type": "markdown",
   "metadata": {},
   "source": [
    "# Línea base\n",
    "\n",
    "La idea del notebook es tener una primera línea base para las estaciones de SIMAJ, el código puede funcionar como base para replicarlo a las estaciones de Mi Macro"
   ]
  },
  {
   "cell_type": "code",
   "execution_count": 1,
   "metadata": {},
   "outputs": [],
   "source": [
    "import os\n",
    "import sys\n",
    "import osmnx as ox\n",
    "import geopandas as gpd\n",
    "import pandas as pd\n",
    "import matplotlib.pyplot as plt\n",
    "import matplotlib as mpl\n",
    "module_path = os.path.abspath(os.path.join('..'))\n",
    "if module_path not in sys.path:\n",
    "    sys.path.append(module_path)\n",
    "    import aqiGDL\n",
    "%matplotlib inline"
   ]
  },
  {
   "cell_type": "markdown",
   "metadata": {},
   "source": [
    "Colores y estilo de matplotlib a usar"
   ]
  },
  {
   "cell_type": "code",
   "execution_count": 7,
   "metadata": {},
   "outputs": [],
   "source": [
    "plt.style.use('https://github.com/dhaitz/matplotlib-stylesheets/raw/master/pitayasmoothie-dark.mplstyle')\n",
    "colors = ['7A76C2', 'ff6e9c98', 'f62196', '18c0c4', 'f3907e', '66E9EC']"
   ]
  },
  {
   "cell_type": "markdown",
   "metadata": {},
   "source": [
    "Carga de estaciones de monitoreo"
   ]
  },
  {
   "cell_type": "code",
   "execution_count": 2,
   "metadata": {},
   "outputs": [
    {
     "data": {
      "text/html": [
       "<div>\n",
       "<style scoped>\n",
       "    .dataframe tbody tr th:only-of-type {\n",
       "        vertical-align: middle;\n",
       "    }\n",
       "\n",
       "    .dataframe tbody tr th {\n",
       "        vertical-align: top;\n",
       "    }\n",
       "\n",
       "    .dataframe thead th {\n",
       "        text-align: right;\n",
       "    }\n",
       "</style>\n",
       "<table border=\"1\" class=\"dataframe\">\n",
       "  <thead>\n",
       "    <tr style=\"text-align: right;\">\n",
       "      <th></th>\n",
       "      <th>Name</th>\n",
       "      <th>x</th>\n",
       "      <th>y</th>\n",
       "      <th>geometry</th>\n",
       "    </tr>\n",
       "  </thead>\n",
       "  <tbody>\n",
       "    <tr>\n",
       "      <th>0</th>\n",
       "      <td>10. Colon</td>\n",
       "      <td>-103.400806</td>\n",
       "      <td>20.606105</td>\n",
       "      <td>POINT (666650.899 2279373.835)</td>\n",
       "    </tr>\n",
       "    <tr>\n",
       "      <th>1</th>\n",
       "      <td>11. UVM</td>\n",
       "      <td>-103.406642</td>\n",
       "      <td>20.608323</td>\n",
       "      <td>POINT (666040.129 2279613.376)</td>\n",
       "    </tr>\n",
       "  </tbody>\n",
       "</table>\n",
       "</div>"
      ],
      "text/plain": [
       "        Name           x          y                        geometry\n",
       "0  10. Colon -103.400806  20.606105  POINT (666650.899 2279373.835)\n",
       "1    11. UVM -103.406642  20.608323  POINT (666040.129 2279613.376)"
      ]
     },
     "execution_count": 2,
     "metadata": {},
     "output_type": "execute_result"
    }
   ],
   "source": [
    "gdf_est = aqiGDL.gdf_from_db('estaciones_gdl','Estaciones')\n",
    "gdf_est = ox.project_gdf(gdf_est,to_crs='EPSG:32613')\n",
    "gdf_est_simaj = aqiGDL.gdf_from_db('estaciones_simaj','estaciones_simaj')\n",
    "gdf_est_simaj = ox.project_gdf(gdf_est_simaj,to_crs='EPSG:32613')"
   ]
  },
  {
   "cell_type": "markdown",
   "metadata": {},
   "source": [
    "Carga de las mediciones usando un rango de fechas"
   ]
  },
  {
   "cell_type": "code",
   "execution_count": 125,
   "metadata": {},
   "outputs": [],
   "source": [
    "est = 'ATM'\n",
    "inicio = '2018/12/31'\n",
    "fin = '2019/04/01'\n",
    "query = f\"SELECT * FROM data.simaj_data_day WHERE \\\"FECHA\\\" between \\'{inicio}\\' and \\'{fin}\\'\"\n",
    "df = aqiGDL.df_from_query(query)\n",
    "df['FECHA'] = pd.to_datetime(df['FECHA']).dt.date"
   ]
  },
  {
   "cell_type": "markdown",
   "metadata": {},
   "source": [
    "Red base de Guadalajara"
   ]
  },
  {
   "cell_type": "code",
   "execution_count": 115,
   "metadata": {},
   "outputs": [],
   "source": [
    "G = ox.graph_from_bbox(20.751857,20.523110,-103.201328,-103.468643)\n",
    "edges = ox.graph_to_gdfs(G, nodes=False)\n",
    "edges = ox.project_gdf(edges,to_crs=gdf_est_simaj.crs)"
   ]
  },
  {
   "cell_type": "markdown",
   "metadata": {},
   "source": [
    "## Plot 📈"
   ]
  },
  {
   "cell_type": "code",
   "execution_count": 155,
   "metadata": {},
   "outputs": [],
   "source": [
    "errors = []\n",
    "for est in df.EST_SIMAJ.unique().tolist():\n",
    "    try:\n",
    "        fig, axes = plt.subplots(2,3,figsize=(16,9), sharex=True)\n",
    "        for param, ax, color in zip(df.PARAM.unique().tolist(), axes.flatten()[1:], colors):\n",
    "            df_temp = df[(df['EST_SIMAJ']==est) & (df['PARAM']==param)]\n",
    "            ax.plot(df_temp['FECHA'], df_temp['CONC'], label=param, color='#'+color)\n",
    "            ax.set_title(param,fontsize=15)\n",
    "            if param == 'SO2' or param == 'PM10':\n",
    "                ax.set_xticklabels([])\n",
    "            else:\n",
    "                ax.tick_params(labelrotation=45)\n",
    "        \n",
    "        a00 = axes[0,0]\n",
    "        shax = a00.get_shared_x_axes()\n",
    "        shax.remove(a00)\n",
    "        edges.plot(ax=axes[0][0], color='#e8e9eb',linewidth=0.1, zorder=-1)\n",
    "        edges[(edges['highway']=='primary') | (edges['highway']=='secondary')].plot(ax=axes[0][0], color='#e8e9eb',linewidth=0.5, zorder=0)\n",
    "        gdf_est_simaj.plot(ax=axes[0][0], color='k', alpha=0.85, zorder=1)\n",
    "        gdf_est_simaj[gdf_est_simaj['codigo']==est].plot(ax=axes[0][0], color='#ba0d38', alpha=0.85, zorder=2, markersize=90)\n",
    "        axes[0][0].axis('off')\n",
    "        estacion = gdf_est_simaj[gdf_est_simaj['codigo']==est]['nombre'].values[0]\n",
    "        fecha_1 = df['FECHA'].min().strftime('%Y-%m-%d') \n",
    "        fecha_2 = df['FECHA'].max().strftime('%Y-%m-%d') \n",
    "        fig.suptitle(f'{estacion}\\n{fecha_1} -- {fecha_2}', fontsize=20)\n",
    "        plt.savefig(f'../output/figures/estsimaj/{est}_{fecha_1}.png',dpi=300)\n",
    "        plt.close()\n",
    "    except Exception as e:\n",
    "        errors.append(est)\n",
    "        pass"
   ]
  },
  {
   "cell_type": "code",
   "execution_count": 156,
   "metadata": {},
   "outputs": [
    {
     "data": {
      "text/plain": [
       "[]"
      ]
     },
     "execution_count": 156,
     "metadata": {},
     "output_type": "execute_result"
    }
   ],
   "source": [
    "errors"
   ]
  },
  {
   "cell_type": "code",
   "execution_count": null,
   "metadata": {},
   "outputs": [],
   "source": []
  }
 ],
 "metadata": {
  "kernelspec": {
   "display_name": "Python 3",
   "language": "python",
   "name": "python3"
  },
  "language_info": {
   "codemirror_mode": {
    "name": "ipython",
    "version": 3
   },
   "file_extension": ".py",
   "mimetype": "text/x-python",
   "name": "python",
   "nbconvert_exporter": "python",
   "pygments_lexer": "ipython3",
   "version": "3.8.6"
  }
 },
 "nbformat": 4,
 "nbformat_minor": 4
}
