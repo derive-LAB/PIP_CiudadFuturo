{
 "cells": [
  {
   "cell_type": "markdown",
   "metadata": {},
   "source": [
    "# Líneas base de Google EIE\n",
    "\n",
    "Imágenes por estación de los cálculos de potencial solar, emisiones de edificios y emisiones de transporte con datos de Google EIE"
   ]
  },
  {
   "cell_type": "markdown",
   "metadata": {},
   "source": [
    "### Ajustes generales"
   ]
  },
  {
   "cell_type": "code",
   "execution_count": 2,
   "metadata": {},
   "outputs": [],
   "source": [
    "import os\n",
    "import sys\n",
    "import osmnx as ox\n",
    "import geopandas as gpd\n",
    "import pandas as pd\n",
    "import matplotlib.pyplot as plt\n",
    "import matplotlib as mpl\n",
    "import osgeo.gdal\n",
    "import urllib.request\n",
    "import zipfile\n",
    "module_path = os.path.abspath(os.path.join('..'))\n",
    "if module_path not in sys.path:\n",
    "    sys.path.append(module_path)\n",
    "    import aqiGDL\n",
    "%matplotlib inline"
   ]
  },
  {
   "cell_type": "code",
   "execution_count": 3,
   "metadata": {},
   "outputs": [],
   "source": [
    "plt.style.use('https://github.com/dhaitz/matplotlib-stylesheets/raw/master/pitayasmoothie-dark.mplstyle')\n",
    "colors = ['7A76C2', 'ff6e9c98', 'f62196', '18c0c4', 'f3907e', '66E9EC']\n",
    "dist = 1000 #Catchment area in sq m."
   ]
  },
  {
   "cell_type": "code",
   "execution_count": 4,
   "metadata": {},
   "outputs": [],
   "source": [
    "gdf_est = aqiGDL.gdf_from_db('estaciones_gdl','Estaciones')\n",
    "#gdf_est = ox.project_gdf(gdf_est,to_crs='EPSG:32613')"
   ]
  },
  {
   "cell_type": "markdown",
   "metadata": {},
   "source": [
    "## Potencial solar"
   ]
  },
  {
   "cell_type": "code",
   "execution_count": 5,
   "metadata": {},
   "outputs": [],
   "source": [
    "potential = (6600/28) #Per roof median potential kWh AC/yr https://insights.sustainability.google/places/ChIJOwV0Q_qxKIQR7NCkjDwfR-k/solar"
   ]
  },
  {
   "cell_type": "code",
   "execution_count": 6,
   "metadata": {},
   "outputs": [],
   "source": [
    "data = []\n",
    "areas = {}\n",
    "edges_data = []\n",
    "for i in range(len(gdf_est)):\n",
    "    x = gdf_est.at[i,'x']\n",
    "    y = gdf_est.at[i,'y']\n",
    "    est = gdf_est.at[i,'Name']\n",
    "    point = (y, x)\n",
    "    tags = {'building': True}\n",
    "    gdf = ox.geometries_from_point(point, tags, dist=dist)\n",
    "    gdf['Estacion'] = est\n",
    "    # calculate the area in projected units (meters) of each building footprint\n",
    "    gdf = ox.project_gdf(gdf)\n",
    "    gdf['area'] = gdf.area\n",
    "    gdf['kWh_year'] = gdf['area'] * potential\n",
    "    data.append(gdf)\n",
    "    areas[est] = gdf['area'].sum()\n",
    "    G = ox.graph_from_point(point,dist=dist)\n",
    "    edges = ox.graph_to_gdfs(G, nodes=False)\n",
    "    edges['Estacion'] = est\n",
    "    edges = ox.project_gdf(edges)\n",
    "    edges_data.append(edges)\n",
    "    G = None\n",
    "    edges = None"
   ]
  },
  {
   "cell_type": "code",
   "execution_count": 7,
   "metadata": {},
   "outputs": [],
   "source": [
    "df = pd.DataFrame(areas, index = ['area']).T\n",
    "df['kWh_year'] = df['area'] * potential\n",
    "gdf_est_pot = ox.project_gdf(gdf_est)\n",
    "gdf_est_pot = gdf_est_pot.merge(df, right_index=True, left_on = 'Name')"
   ]
  },
  {
   "cell_type": "code",
   "execution_count": 8,
   "metadata": {},
   "outputs": [],
   "source": [
    "gdf_ = pd.concat(data, ignore_index=True)\n",
    "edges = pd.concat(edges_data, ignore_index=True)"
   ]
  },
  {
   "cell_type": "markdown",
   "metadata": {},
   "source": [
    "## Emisiones de edificioes"
   ]
  },
  {
   "cell_type": "code",
   "execution_count": 9,
   "metadata": {},
   "outputs": [],
   "source": [
    "consumed = 144.06 #Per roof median emission kWh/m²/yr https://insights.sustainability.google/places/ChIJOwV0Q_qxKIQR7NCkjDwfR-k/buildings\n",
    "emission = 0.00041423 #total carbon intensity tCO2e/kWh https://insights.sustainability.google/places/ChIJOwV0Q_qxKIQR7NCkjDwfR-k/buildings"
   ]
  },
  {
   "cell_type": "markdown",
   "metadata": {},
   "source": [
    "Descarga y descomprime los datos para el DENUE 2019"
   ]
  },
  {
   "cell_type": "code",
   "execution_count": 10,
   "metadata": {},
   "outputs": [
    {
     "name": "stdout",
     "output_type": "stream",
     "text": [
      "cannot create ../data/external/denue_2019/\n"
     ]
    }
   ],
   "source": [
    "save_path = os.path.join('../data/external/', 'denue')\n",
    "urllib.request.urlretrieve(\n",
    "            'https://www.inegi.org.mx/contenidos/masiva/denue/2019_11/denue_14_1119_shp.zip', save_path)\n",
    "\n",
    "\n",
    "# define the name of the directory to be created\n",
    "outputDirectory = '../data/external/denue_2019/'\n",
    "\n",
    "try:\n",
    "    os.makedirs(outputDirectory)\n",
    "except IOError:\n",
    "    print('cannot create', outputDirectory)\n",
    "    \n",
    "with zipfile.ZipFile(save_path, 'r') as zip_ref:\n",
    "    \n",
    "    zip_ref.extractall(outputDirectory)"
   ]
  },
  {
   "cell_type": "code",
   "execution_count": 11,
   "metadata": {},
   "outputs": [],
   "source": [
    "denue = gpd.read_file(outputDirectory+'conjunto_de_datos/denue_inegi_14_.shp')\n",
    "\n",
    "denue = ox.project_gdf(denue,to_crs='EPSG:32613')"
   ]
  },
  {
   "cell_type": "markdown",
   "metadata": {},
   "source": [
    "Crea el buffer para filtrar los puntos del DENUE por área de estudio"
   ]
  },
  {
   "cell_type": "code",
   "execution_count": 12,
   "metadata": {},
   "outputs": [
    {
     "data": {
      "text/html": [
       "<div>\n",
       "<style scoped>\n",
       "    .dataframe tbody tr th:only-of-type {\n",
       "        vertical-align: middle;\n",
       "    }\n",
       "\n",
       "    .dataframe tbody tr th {\n",
       "        vertical-align: top;\n",
       "    }\n",
       "\n",
       "    .dataframe thead th {\n",
       "        text-align: right;\n",
       "    }\n",
       "</style>\n",
       "<table border=\"1\" class=\"dataframe\">\n",
       "  <thead>\n",
       "    <tr style=\"text-align: right;\">\n",
       "      <th></th>\n",
       "      <th>id</th>\n",
       "      <th>nom_estab</th>\n",
       "      <th>raz_social</th>\n",
       "      <th>codigo_act</th>\n",
       "      <th>nombre_act</th>\n",
       "      <th>per_ocu</th>\n",
       "      <th>tipo_vial</th>\n",
       "      <th>nom_vial</th>\n",
       "      <th>tipo_v_e_1</th>\n",
       "      <th>nom_v_e_1</th>\n",
       "      <th>...</th>\n",
       "      <th>ageb</th>\n",
       "      <th>manzana</th>\n",
       "      <th>telefono</th>\n",
       "      <th>correoelec</th>\n",
       "      <th>www</th>\n",
       "      <th>tipoUniEco</th>\n",
       "      <th>latitud</th>\n",
       "      <th>longitud</th>\n",
       "      <th>fecha_alta</th>\n",
       "      <th>geometry</th>\n",
       "    </tr>\n",
       "  </thead>\n",
       "  <tbody>\n",
       "    <tr>\n",
       "      <th>10</th>\n",
       "      <td>7162426</td>\n",
       "      <td>TOTAL PUERTAS AUTOMATICAS</td>\n",
       "      <td>None</td>\n",
       "      <td>238290</td>\n",
       "      <td>Otras instalaciones y equipamiento en construc...</td>\n",
       "      <td>0 a 5 personas</td>\n",
       "      <td>CALLE</td>\n",
       "      <td>VOLCAN PARICUTIN</td>\n",
       "      <td>CALLE</td>\n",
       "      <td>VOLCAN DE BARU</td>\n",
       "      <td>...</td>\n",
       "      <td>4431</td>\n",
       "      <td>003</td>\n",
       "      <td>None</td>\n",
       "      <td>None</td>\n",
       "      <td>None</td>\n",
       "      <td>Fijo</td>\n",
       "      <td>20.643058</td>\n",
       "      <td>-103.432993</td>\n",
       "      <td>2019-11</td>\n",
       "      <td>POINT (663256.618 2283431.913)</td>\n",
       "    </tr>\n",
       "  </tbody>\n",
       "</table>\n",
       "<p>1 rows × 42 columns</p>\n",
       "</div>"
      ],
      "text/plain": [
       "         id                  nom_estab raz_social codigo_act  \\\n",
       "10  7162426  TOTAL PUERTAS AUTOMATICAS       None     238290   \n",
       "\n",
       "                                           nombre_act         per_ocu  \\\n",
       "10  Otras instalaciones y equipamiento en construc...  0 a 5 personas   \n",
       "\n",
       "   tipo_vial          nom_vial tipo_v_e_1       nom_v_e_1  ...  ageb manzana  \\\n",
       "10     CALLE  VOLCAN PARICUTIN      CALLE  VOLCAN DE BARU  ...  4431     003   \n",
       "\n",
       "   telefono correoelec   www tipoUniEco    latitud    longitud fecha_alta  \\\n",
       "10     None       None  None       Fijo  20.643058 -103.432993    2019-11   \n",
       "\n",
       "                          geometry  \n",
       "10  POINT (663256.618 2283431.913)  \n",
       "\n",
       "[1 rows x 42 columns]"
      ]
     },
     "execution_count": 12,
     "metadata": {},
     "output_type": "execute_result"
    }
   ],
   "source": [
    "gdf_est = ox.project_gdf(gdf_est,to_crs='EPSG:32613')\n",
    "buffer = gpd.GeoDataFrame({'geometry':gdf_est.buffer(dist),'Name':gdf_est['Name']},geometry='geometry',crs=gdf_est.crs)\n",
    "\n",
    "clip = gpd.clip(denue, buffer)\n",
    "clip.head(1)"
   ]
  },
  {
   "cell_type": "code",
   "execution_count": 13,
   "metadata": {},
   "outputs": [
    {
     "data": {
      "text/html": [
       "<div>\n",
       "<style scoped>\n",
       "    .dataframe tbody tr th:only-of-type {\n",
       "        vertical-align: middle;\n",
       "    }\n",
       "\n",
       "    .dataframe tbody tr th {\n",
       "        vertical-align: top;\n",
       "    }\n",
       "\n",
       "    .dataframe thead th {\n",
       "        text-align: right;\n",
       "    }\n",
       "</style>\n",
       "<table border=\"1\" class=\"dataframe\">\n",
       "  <thead>\n",
       "    <tr style=\"text-align: right;\">\n",
       "      <th></th>\n",
       "      <th>id</th>\n",
       "      <th>nom_estab</th>\n",
       "      <th>raz_social</th>\n",
       "      <th>codigo_act</th>\n",
       "      <th>nombre_act</th>\n",
       "      <th>per_ocu</th>\n",
       "      <th>tipo_vial</th>\n",
       "      <th>nom_vial</th>\n",
       "      <th>tipo_v_e_1</th>\n",
       "      <th>nom_v_e_1</th>\n",
       "      <th>...</th>\n",
       "      <th>ageb</th>\n",
       "      <th>manzana</th>\n",
       "      <th>telefono</th>\n",
       "      <th>correoelec</th>\n",
       "      <th>www</th>\n",
       "      <th>tipoUniEco</th>\n",
       "      <th>latitud</th>\n",
       "      <th>longitud</th>\n",
       "      <th>fecha_alta</th>\n",
       "      <th>geometry</th>\n",
       "    </tr>\n",
       "  </thead>\n",
       "  <tbody>\n",
       "    <tr>\n",
       "      <th>361126</th>\n",
       "      <td>1694541</td>\n",
       "      <td>ALMACÉN GENERAL DE GOBIERNO</td>\n",
       "      <td>ALMACÉN GENERAL DE GOBIERNO</td>\n",
       "      <td>931210</td>\n",
       "      <td>Administración pública en general</td>\n",
       "      <td>0 a 5 personas</td>\n",
       "      <td>CALLE</td>\n",
       "      <td>PUERTO GUAYMAS</td>\n",
       "      <td>CALLE</td>\n",
       "      <td>ANILLO PERIFERICO PONIENTE MANUEL GOMEZ MORIN</td>\n",
       "      <td>...</td>\n",
       "      <td>1723</td>\n",
       "      <td>017</td>\n",
       "      <td>3030954041</td>\n",
       "      <td>None</td>\n",
       "      <td>None</td>\n",
       "      <td>Fijo</td>\n",
       "      <td>20.641361</td>\n",
       "      <td>-103.441811</td>\n",
       "      <td>2014-12</td>\n",
       "      <td>POINT (662339.540 2283235.202)</td>\n",
       "    </tr>\n",
       "  </tbody>\n",
       "</table>\n",
       "<p>1 rows × 42 columns</p>\n",
       "</div>"
      ],
      "text/plain": [
       "             id                    nom_estab                   raz_social  \\\n",
       "361126  1694541  ALMACÉN GENERAL DE GOBIERNO  ALMACÉN GENERAL DE GOBIERNO   \n",
       "\n",
       "       codigo_act                         nombre_act         per_ocu  \\\n",
       "361126     931210  Administración pública en general  0 a 5 personas   \n",
       "\n",
       "       tipo_vial        nom_vial tipo_v_e_1  \\\n",
       "361126     CALLE  PUERTO GUAYMAS      CALLE   \n",
       "\n",
       "                                            nom_v_e_1  ...  ageb manzana  \\\n",
       "361126  ANILLO PERIFERICO PONIENTE MANUEL GOMEZ MORIN  ...  1723     017   \n",
       "\n",
       "          telefono correoelec   www tipoUniEco    latitud    longitud  \\\n",
       "361126  3030954041       None  None       Fijo  20.641361 -103.441811   \n",
       "\n",
       "       fecha_alta                        geometry  \n",
       "361126    2014-12  POINT (662339.540 2283235.202)  \n",
       "\n",
       "[1 rows x 42 columns]"
      ]
     },
     "execution_count": 13,
     "metadata": {},
     "output_type": "execute_result"
    }
   ],
   "source": [
    "gob = clip[clip['codigo_act'].str.startswith('931')]\n",
    "gob.head(1)"
   ]
  },
  {
   "cell_type": "markdown",
   "metadata": {},
   "source": [
    "Extrae las áreas de los edificios en las áreas de estudio para obtener el área promedio"
   ]
  },
  {
   "cell_type": "code",
   "execution_count": 14,
   "metadata": {},
   "outputs": [],
   "source": [
    "buffer = ox.project_gdf(buffer,to_crs='EPSG:4326')\n",
    "tags = {'building': True}\n",
    "gdf_building = gpd.GeoDataFrame()\n",
    "\n",
    "for b in buffer.geometry:\n",
    "    building = ox.geometries_from_polygon(b, tags)\n",
    "    gdf_building = gdf_building.append(building)"
   ]
  },
  {
   "cell_type": "code",
   "execution_count": 15,
   "metadata": {},
   "outputs": [
    {
     "data": {
      "text/plain": [
       "2122.6634299477205"
      ]
     },
     "execution_count": 15,
     "metadata": {},
     "output_type": "execute_result"
    }
   ],
   "source": [
    "gdf_building = ox.project_gdf(gdf_building,to_crs='EPSG:32613')\n",
    "gdf_building['area'] = gdf_building.geometry.area\n",
    "mean_area = gdf_building.area.mean()\n",
    "mean_area"
   ]
  },
  {
   "cell_type": "markdown",
   "metadata": {},
   "source": [
    "Cálculo del área y emisiones promedio por estación"
   ]
  },
  {
   "cell_type": "code",
   "execution_count": 16,
   "metadata": {},
   "outputs": [
    {
     "data": {
      "text/html": [
       "<div>\n",
       "<style scoped>\n",
       "    .dataframe tbody tr th:only-of-type {\n",
       "        vertical-align: middle;\n",
       "    }\n",
       "\n",
       "    .dataframe tbody tr th {\n",
       "        vertical-align: top;\n",
       "    }\n",
       "\n",
       "    .dataframe thead th {\n",
       "        text-align: right;\n",
       "    }\n",
       "</style>\n",
       "<table border=\"1\" class=\"dataframe\">\n",
       "  <thead>\n",
       "    <tr style=\"text-align: right;\">\n",
       "      <th></th>\n",
       "      <th>Name</th>\n",
       "      <th>id</th>\n",
       "      <th>area</th>\n",
       "      <th>kWh_year</th>\n",
       "      <th>tonCO₂eq</th>\n",
       "    </tr>\n",
       "  </thead>\n",
       "  <tbody>\n",
       "    <tr>\n",
       "      <th>0</th>\n",
       "      <td>1. Terminal Sur</td>\n",
       "      <td>2</td>\n",
       "      <td>4245.32686</td>\n",
       "      <td>6.115818e+05</td>\n",
       "      <td>253.335524</td>\n",
       "    </tr>\n",
       "    <tr>\n",
       "      <th>1</th>\n",
       "      <td>10. Colon</td>\n",
       "      <td>4</td>\n",
       "      <td>8490.65372</td>\n",
       "      <td>1.223164e+06</td>\n",
       "      <td>506.671048</td>\n",
       "    </tr>\n",
       "    <tr>\n",
       "      <th>2</th>\n",
       "      <td>11. UVM</td>\n",
       "      <td>3</td>\n",
       "      <td>6367.99029</td>\n",
       "      <td>9.173727e+05</td>\n",
       "      <td>380.003286</td>\n",
       "    </tr>\n",
       "    <tr>\n",
       "      <th>3</th>\n",
       "      <td>12. ITESO</td>\n",
       "      <td>0</td>\n",
       "      <td>0.00000</td>\n",
       "      <td>0.000000e+00</td>\n",
       "      <td>0.000000</td>\n",
       "    </tr>\n",
       "    <tr>\n",
       "      <th>4</th>\n",
       "      <td>13. Lopez Mateos</td>\n",
       "      <td>5</td>\n",
       "      <td>10613.31715</td>\n",
       "      <td>1.528954e+06</td>\n",
       "      <td>633.338810</td>\n",
       "    </tr>\n",
       "  </tbody>\n",
       "</table>\n",
       "</div>"
      ],
      "text/plain": [
       "               Name  id         area      kWh_year    tonCO₂eq\n",
       "0   1. Terminal Sur   2   4245.32686  6.115818e+05  253.335524\n",
       "1         10. Colon   4   8490.65372  1.223164e+06  506.671048\n",
       "2           11. UVM   3   6367.99029  9.173727e+05  380.003286\n",
       "3         12. ITESO   0      0.00000  0.000000e+00    0.000000\n",
       "4  13. Lopez Mateos   5  10613.31715  1.528954e+06  633.338810"
      ]
     },
     "execution_count": 16,
     "metadata": {},
     "output_type": "execute_result"
    }
   ],
   "source": [
    "buffer = ox.project_gdf(buffer,to_crs='EPSG:32613')\n",
    "\n",
    "edificios_gob = gpd.sjoin(buffer,gob,how='left').groupby(['Name']).count().reset_index()\n",
    "edificios_gob = edificios_gob[['Name','id']]\n",
    "\n",
    "edificios_gob['area'] = edificios_gob['id']*mean_area\n",
    "edificios_gob['kWh_year'] = edificios_gob['area']*consumed\n",
    "edificios_gob['tonCO₂eq'] = edificios_gob['kWh_year']*emission\n",
    "edificios_gob.head(5)"
   ]
  },
  {
   "cell_type": "code",
   "execution_count": 17,
   "metadata": {},
   "outputs": [
    {
     "data": {
      "text/html": [
       "<div>\n",
       "<style scoped>\n",
       "    .dataframe tbody tr th:only-of-type {\n",
       "        vertical-align: middle;\n",
       "    }\n",
       "\n",
       "    .dataframe tbody tr th {\n",
       "        vertical-align: top;\n",
       "    }\n",
       "\n",
       "    .dataframe thead th {\n",
       "        text-align: right;\n",
       "    }\n",
       "</style>\n",
       "<table border=\"1\" class=\"dataframe\">\n",
       "  <thead>\n",
       "    <tr style=\"text-align: right;\">\n",
       "      <th></th>\n",
       "      <th>Name</th>\n",
       "      <th>id</th>\n",
       "      <th>area</th>\n",
       "      <th>kWh_year</th>\n",
       "      <th>tonCO₂eq</th>\n",
       "      <th>x</th>\n",
       "      <th>y</th>\n",
       "      <th>geometry</th>\n",
       "    </tr>\n",
       "  </thead>\n",
       "  <tbody>\n",
       "    <tr>\n",
       "      <th>30</th>\n",
       "      <td>37. Tabachines</td>\n",
       "      <td>15</td>\n",
       "      <td>31839.951449</td>\n",
       "      <td>4.586863e+06</td>\n",
       "      <td>1900.016429</td>\n",
       "      <td>-103.362075</td>\n",
       "      <td>20.733951</td>\n",
       "      <td>POINT (670544.948 2293566.891)</td>\n",
       "    </tr>\n",
       "  </tbody>\n",
       "</table>\n",
       "</div>"
      ],
      "text/plain": [
       "              Name  id          area      kWh_year     tonCO₂eq           x  \\\n",
       "30  37. Tabachines  15  31839.951449  4.586863e+06  1900.016429 -103.362075   \n",
       "\n",
       "            y                        geometry  \n",
       "30  20.733951  POINT (670544.948 2293566.891)  "
      ]
     },
     "execution_count": 17,
     "metadata": {},
     "output_type": "execute_result"
    }
   ],
   "source": [
    "edificios_gob_ = edificios_gob.merge(gdf_est, right_on='Name', left_on = 'Name')\n",
    "edificios_gob_ = gpd.GeoDataFrame(edificios_gob_, crs = gdf_est.crs)\n",
    "edificios_gob_.sort_values(by='tonCO₂eq', ascending=False, inplace=True)\n",
    "edificios_gob_.head(1)"
   ]
  },
  {
   "cell_type": "markdown",
   "metadata": {},
   "source": [
    "## Emisiones de transporte"
   ]
  },
  {
   "cell_type": "code",
   "execution_count": 18,
   "metadata": {},
   "outputs": [
    {
     "data": {
      "text/html": [
       "<div>\n",
       "<style scoped>\n",
       "    .dataframe tbody tr th:only-of-type {\n",
       "        vertical-align: middle;\n",
       "    }\n",
       "\n",
       "    .dataframe tbody tr th {\n",
       "        vertical-align: top;\n",
       "    }\n",
       "\n",
       "    .dataframe thead th {\n",
       "        text-align: right;\n",
       "    }\n",
       "</style>\n",
       "<table border=\"1\" class=\"dataframe\">\n",
       "  <thead>\n",
       "    <tr style=\"text-align: right;\">\n",
       "      <th></th>\n",
       "      <th>CVE_ENT</th>\n",
       "      <th>CVE_MUN</th>\n",
       "      <th>NOM_MUN</th>\n",
       "      <th>OID</th>\n",
       "      <th>geometry</th>\n",
       "    </tr>\n",
       "  </thead>\n",
       "  <tbody>\n",
       "    <tr>\n",
       "      <th>0</th>\n",
       "      <td>14</td>\n",
       "      <td>039</td>\n",
       "      <td>Guadalajara</td>\n",
       "      <td>631</td>\n",
       "      <td>MULTIPOLYGON (((675777.419 2295506.182, 675934...</td>\n",
       "    </tr>\n",
       "  </tbody>\n",
       "</table>\n",
       "</div>"
      ],
      "text/plain": [
       "  CVE_ENT CVE_MUN      NOM_MUN  OID  \\\n",
       "0      14     039  Guadalajara  631   \n",
       "\n",
       "                                            geometry  \n",
       "0  MULTIPOLYGON (((675777.419 2295506.182, 675934...  "
      ]
     },
     "execution_count": 18,
     "metadata": {},
     "output_type": "execute_result"
    }
   ],
   "source": [
    "gdf_amg = aqiGDL.gdf_from_db('municipios_amg','areas')\n",
    "gdf_amg = ox.project_gdf(gdf_amg,to_crs='EPSG:32613')\n",
    "gdf_amg.head(1)"
   ]
  },
  {
   "cell_type": "code",
   "execution_count": 19,
   "metadata": {},
   "outputs": [
    {
     "data": {
      "text/html": [
       "<div>\n",
       "<style scoped>\n",
       "    .dataframe tbody tr th:only-of-type {\n",
       "        vertical-align: middle;\n",
       "    }\n",
       "\n",
       "    .dataframe tbody tr th {\n",
       "        vertical-align: top;\n",
       "    }\n",
       "\n",
       "    .dataframe thead th {\n",
       "        text-align: right;\n",
       "    }\n",
       "</style>\n",
       "<table border=\"1\" class=\"dataframe\">\n",
       "  <thead>\n",
       "    <tr style=\"text-align: right;\">\n",
       "      <th></th>\n",
       "      <th>Ciudad</th>\n",
       "      <th>Modo</th>\n",
       "      <th>Porcentaje-uso</th>\n",
       "      <th>Eficiencia</th>\n",
       "      <th>Emision</th>\n",
       "    </tr>\n",
       "  </thead>\n",
       "  <tbody>\n",
       "    <tr>\n",
       "      <th>0</th>\n",
       "      <td>Guadalajara</td>\n",
       "      <td>Automovil</td>\n",
       "      <td>85.6</td>\n",
       "      <td>9.1</td>\n",
       "      <td>0.002</td>\n",
       "    </tr>\n",
       "  </tbody>\n",
       "</table>\n",
       "</div>"
      ],
      "text/plain": [
       "        Ciudad       Modo  Porcentaje-uso  Eficiencia  Emision\n",
       "0  Guadalajara  Automovil            85.6         9.1    0.002"
      ]
     },
     "execution_count": 19,
     "metadata": {},
     "output_type": "execute_result"
    }
   ],
   "source": [
    "df_cd = pd.read_csv('../data/external/Google-emisiones-transporte.csv')\n",
    "df_cd.Ciudad.apply(str)\n",
    "df_cd.head(1)"
   ]
  },
  {
   "cell_type": "code",
   "execution_count": 20,
   "metadata": {},
   "outputs": [
    {
     "data": {
      "text/html": [
       "<div>\n",
       "<style scoped>\n",
       "    .dataframe tbody tr th:only-of-type {\n",
       "        vertical-align: middle;\n",
       "    }\n",
       "\n",
       "    .dataframe tbody tr th {\n",
       "        vertical-align: top;\n",
       "    }\n",
       "\n",
       "    .dataframe thead th {\n",
       "        text-align: right;\n",
       "    }\n",
       "</style>\n",
       "<table border=\"1\" class=\"dataframe\">\n",
       "  <thead>\n",
       "    <tr style=\"text-align: right;\">\n",
       "      <th></th>\n",
       "      <th>Name</th>\n",
       "      <th>x</th>\n",
       "      <th>y</th>\n",
       "      <th>geometry</th>\n",
       "      <th>municipio</th>\n",
       "    </tr>\n",
       "  </thead>\n",
       "  <tbody>\n",
       "    <tr>\n",
       "      <th>0</th>\n",
       "      <td>10. Colon</td>\n",
       "      <td>-103.400806</td>\n",
       "      <td>20.606105</td>\n",
       "      <td>POINT (666650.899 2279373.835)</td>\n",
       "      <td>San Pedro Tlaquepaque</td>\n",
       "    </tr>\n",
       "  </tbody>\n",
       "</table>\n",
       "</div>"
      ],
      "text/plain": [
       "        Name           x          y                        geometry  \\\n",
       "0  10. Colon -103.400806  20.606105  POINT (666650.899 2279373.835)   \n",
       "\n",
       "               municipio  \n",
       "0  San Pedro Tlaquepaque  "
      ]
     },
     "execution_count": 20,
     "metadata": {},
     "output_type": "execute_result"
    }
   ],
   "source": [
    "gdf_est['municipio'] = gpd.sjoin(gdf_est,gdf_amg)['NOM_MUN']\n",
    "gdf_est.head(1)"
   ]
  },
  {
   "cell_type": "code",
   "execution_count": 21,
   "metadata": {},
   "outputs": [
    {
     "data": {
      "text/html": [
       "<div>\n",
       "<style scoped>\n",
       "    .dataframe tbody tr th:only-of-type {\n",
       "        vertical-align: middle;\n",
       "    }\n",
       "\n",
       "    .dataframe tbody tr th {\n",
       "        vertical-align: top;\n",
       "    }\n",
       "\n",
       "    .dataframe thead th {\n",
       "        text-align: right;\n",
       "    }\n",
       "</style>\n",
       "<table border=\"1\" class=\"dataframe\">\n",
       "  <thead>\n",
       "    <tr style=\"text-align: right;\">\n",
       "      <th></th>\n",
       "      <th>osmid</th>\n",
       "      <th>highway</th>\n",
       "      <th>oneway</th>\n",
       "      <th>length</th>\n",
       "      <th>geometry</th>\n",
       "      <th>name</th>\n",
       "      <th>lanes</th>\n",
       "      <th>bridge</th>\n",
       "      <th>access</th>\n",
       "      <th>junction</th>\n",
       "      <th>maxspeed</th>\n",
       "      <th>ref</th>\n",
       "      <th>service</th>\n",
       "      <th>tunnel</th>\n",
       "      <th>width</th>\n",
       "      <th>area</th>\n",
       "      <th>u</th>\n",
       "      <th>v</th>\n",
       "      <th>key</th>\n",
       "    </tr>\n",
       "  </thead>\n",
       "  <tbody>\n",
       "    <tr>\n",
       "      <th>0</th>\n",
       "      <td>149698947</td>\n",
       "      <td>secondary</td>\n",
       "      <td>True</td>\n",
       "      <td>51.862</td>\n",
       "      <td>LINESTRING (678752.310 2282699.577, 678738.504...</td>\n",
       "      <td>Avenida Patria</td>\n",
       "      <td>2</td>\n",
       "      <td>None</td>\n",
       "      <td>None</td>\n",
       "      <td>None</td>\n",
       "      <td>None</td>\n",
       "      <td>None</td>\n",
       "      <td>None</td>\n",
       "      <td>None</td>\n",
       "      <td>None</td>\n",
       "      <td>None</td>\n",
       "      <td>1619378249</td>\n",
       "      <td>4746157497</td>\n",
       "      <td>0</td>\n",
       "    </tr>\n",
       "  </tbody>\n",
       "</table>\n",
       "</div>"
      ],
      "text/plain": [
       "       osmid    highway  oneway  length  \\\n",
       "0  149698947  secondary    True  51.862   \n",
       "\n",
       "                                            geometry            name lanes  \\\n",
       "0  LINESTRING (678752.310 2282699.577, 678738.504...  Avenida Patria     2   \n",
       "\n",
       "  bridge access junction maxspeed   ref service tunnel width  area  \\\n",
       "0   None   None     None     None  None    None   None  None  None   \n",
       "\n",
       "            u           v  key  \n",
       "0  1619378249  4746157497    0  "
      ]
     },
     "execution_count": 21,
     "metadata": {},
     "output_type": "execute_result"
    }
   ],
   "source": [
    "gdf_edge = aqiGDL.gdf_from_db('guadalajara_edges','networks')\n",
    "gdf_edge = ox.project_gdf(gdf_edge,to_crs='EPSG:32613')\n",
    "gdf_edge.head(1)"
   ]
  },
  {
   "cell_type": "code",
   "execution_count": 22,
   "metadata": {},
   "outputs": [],
   "source": [
    "for i in range(len(buffer)):\n",
    "    vialidades = gpd.clip(gdf_edge, buffer.iloc[i].geometry)\n",
    "    vialidades['length'] = clip.geometry.length\n",
    "    \n",
    "    buffer.loc[i,'sum_length'] = vialidades.length.sum()"
   ]
  },
  {
   "cell_type": "code",
   "execution_count": 23,
   "metadata": {},
   "outputs": [
    {
     "data": {
      "text/html": [
       "<div>\n",
       "<style scoped>\n",
       "    .dataframe tbody tr th:only-of-type {\n",
       "        vertical-align: middle;\n",
       "    }\n",
       "\n",
       "    .dataframe tbody tr th {\n",
       "        vertical-align: top;\n",
       "    }\n",
       "\n",
       "    .dataframe thead th {\n",
       "        text-align: right;\n",
       "    }\n",
       "</style>\n",
       "<table border=\"1\" class=\"dataframe\">\n",
       "  <thead>\n",
       "    <tr style=\"text-align: right;\">\n",
       "      <th></th>\n",
       "      <th>geometry_x</th>\n",
       "      <th>Name</th>\n",
       "      <th>sum_length</th>\n",
       "      <th>x</th>\n",
       "      <th>y</th>\n",
       "      <th>geometry_y</th>\n",
       "      <th>municipio</th>\n",
       "    </tr>\n",
       "  </thead>\n",
       "  <tbody>\n",
       "    <tr>\n",
       "      <th>0</th>\n",
       "      <td>POLYGON ((667650.899 2279373.835, 667646.084 2...</td>\n",
       "      <td>10. Colon</td>\n",
       "      <td>100792.772838</td>\n",
       "      <td>-103.400806</td>\n",
       "      <td>20.606105</td>\n",
       "      <td>POINT (666650.899 2279373.835)</td>\n",
       "      <td>San Pedro Tlaquepaque</td>\n",
       "    </tr>\n",
       "  </tbody>\n",
       "</table>\n",
       "</div>"
      ],
      "text/plain": [
       "                                          geometry_x       Name  \\\n",
       "0  POLYGON ((667650.899 2279373.835, 667646.084 2...  10. Colon   \n",
       "\n",
       "      sum_length           x          y                      geometry_y  \\\n",
       "0  100792.772838 -103.400806  20.606105  POINT (666650.899 2279373.835)   \n",
       "\n",
       "               municipio  \n",
       "0  San Pedro Tlaquepaque  "
      ]
     },
     "execution_count": 23,
     "metadata": {},
     "output_type": "execute_result"
    }
   ],
   "source": [
    "buffer = buffer.merge(gdf_est.drop(column=['geometry','x','y']), right_on='Name', left_on = 'Name')\n",
    "buffer = gpd.GeoDataFrame(buffer)\n",
    "buffer.head(1)"
   ]
  },
  {
   "cell_type": "code",
   "execution_count": 27,
   "metadata": {},
   "outputs": [],
   "source": [
    "for c in df_cd.Ciudad:\n",
    "    \n",
    "    buffer_c = buffer.loc[buffer.municipio==c]\n",
    "    \n",
    "    for est in buffer_c.Name:\n",
    "    \n",
    "        distancia = float(buffer_c.loc[buffer_c.Name==est]['sum_length']/1000)\n",
    "        \n",
    "        #print ()\n",
    "        \n",
    "        co2_auto = (distancia*float(df_cd.loc[(df_cd.Ciudad==c)&(df_cd.Modo=='Automovil'),'Porcentaje-uso']/100)/\n",
    "                    float(df_cd.loc[(df_cd.Ciudad==c)&(df_cd.Modo=='Automovil'),'Eficiencia'])*\n",
    "                   float(df_cd.loc[(df_cd.Ciudad==c)&(df_cd.Modo=='Automovil'),'Emision']))\n",
    "        \n",
    "        co2_bus = (distancia*float(df_cd.loc[(df_cd.Ciudad==c)&(df_cd.Modo=='Autobus'),'Porcentaje-uso']/100)/\n",
    "                    float(df_cd.loc[(df_cd.Ciudad==c)&(df_cd.Modo=='Automovil'),'Eficiencia'])*\n",
    "                   float(df_cd.loc[(df_cd.Ciudad==c)&(df_cd.Modo=='Automovil'),'Emision']))\n",
    "        \n",
    "        co2_moto = (distancia*float(df_cd.loc[(df_cd.Ciudad==c)&(df_cd.Modo=='Motocicleta'),'Porcentaje-uso']/100)/\n",
    "                    float(df_cd.loc[(df_cd.Ciudad==c)&(df_cd.Modo=='Automovil'),'Eficiencia'])*\n",
    "                   float(df_cd.loc[(df_cd.Ciudad==c)&(df_cd.Modo=='Automovil'),'Emision']))\n",
    "        \n",
    "        buffer.loc[(buffer.Name==est), 'tonCO₂eq'] = (co2_auto + co2_bus + co2_moto) * 254"
   ]
  },
  {
   "cell_type": "code",
   "execution_count": 35,
   "metadata": {},
   "outputs": [
    {
     "data": {
      "text/html": [
       "<div>\n",
       "<style scoped>\n",
       "    .dataframe tbody tr th:only-of-type {\n",
       "        vertical-align: middle;\n",
       "    }\n",
       "\n",
       "    .dataframe tbody tr th {\n",
       "        vertical-align: top;\n",
       "    }\n",
       "\n",
       "    .dataframe thead th {\n",
       "        text-align: right;\n",
       "    }\n",
       "</style>\n",
       "<table border=\"1\" class=\"dataframe\">\n",
       "  <thead>\n",
       "    <tr style=\"text-align: right;\">\n",
       "      <th></th>\n",
       "      <th>Name</th>\n",
       "      <th>x</th>\n",
       "      <th>y</th>\n",
       "      <th>geometry</th>\n",
       "      <th>municipio_left</th>\n",
       "      <th>index_right</th>\n",
       "      <th>sum_length</th>\n",
       "      <th>municipio_right</th>\n",
       "      <th>tonCO₂eq</th>\n",
       "    </tr>\n",
       "  </thead>\n",
       "  <tbody>\n",
       "    <tr>\n",
       "      <th>0</th>\n",
       "      <td>10. Colon</td>\n",
       "      <td>-103.400806</td>\n",
       "      <td>20.606105</td>\n",
       "      <td>POINT (666650.899 2279373.835)</td>\n",
       "      <td>San Pedro Tlaquepaque</td>\n",
       "      <td>1</td>\n",
       "      <td>89913.773403</td>\n",
       "      <td>San Pedro Tlaquepaque</td>\n",
       "      <td>5.356878</td>\n",
       "    </tr>\n",
       "  </tbody>\n",
       "</table>\n",
       "</div>"
      ],
      "text/plain": [
       "        Name           x          y                        geometry  \\\n",
       "0  10. Colon -103.400806  20.606105  POINT (666650.899 2279373.835)   \n",
       "\n",
       "          municipio_left  index_right    sum_length        municipio_right  \\\n",
       "0  San Pedro Tlaquepaque            1  89913.773403  San Pedro Tlaquepaque   \n",
       "\n",
       "   tonCO₂eq  \n",
       "0  5.356878  "
      ]
     },
     "execution_count": 35,
     "metadata": {},
     "output_type": "execute_result"
    }
   ],
   "source": [
    "gdf_est_tpt = gpd.sjoin(gdf_est,buffer.drop(columns=['Name']))\n",
    "gdf_est_tpt = gdf_est_tpt.drop_duplicates(subset = 'Name', keep = 'first')\n",
    "gdf_est_tpt.head(1)"
   ]
  },
  {
   "cell_type": "code",
   "execution_count": 36,
   "metadata": {},
   "outputs": [],
   "source": [
    "G = ox.graph_from_bbox(20.751857,20.523110,-103.201328,-103.468643)\n",
    "edges_amg = ox.graph_to_gdfs(G, nodes=False)\n",
    "edges_amg = ox.project_gdf(edges_amg,to_crs=gdf_est.crs)"
   ]
  },
  {
   "cell_type": "code",
   "execution_count": 37,
   "metadata": {},
   "outputs": [
    {
     "ename": "IndexError",
     "evalue": "single positional indexer is out-of-bounds",
     "output_type": "error",
     "traceback": [
      "\u001b[0;31m---------------------------------------------------------------------------\u001b[0m",
      "\u001b[0;31mIndexError\u001b[0m                                Traceback (most recent call last)",
      "\u001b[0;32m<ipython-input-37-bf505a5e2b45>\u001b[0m in \u001b[0;36m<module>\u001b[0;34m\u001b[0m\n\u001b[1;32m      1\u001b[0m \u001b[0merrors\u001b[0m \u001b[0;34m=\u001b[0m \u001b[0;34m[\u001b[0m\u001b[0;34m]\u001b[0m\u001b[0;34m\u001b[0m\u001b[0;34m\u001b[0m\u001b[0m\n\u001b[1;32m      2\u001b[0m \u001b[0;32mfor\u001b[0m \u001b[0ma\u001b[0m \u001b[0;32min\u001b[0m \u001b[0mrange\u001b[0m\u001b[0;34m(\u001b[0m\u001b[0;36m40\u001b[0m\u001b[0;34m,\u001b[0m\u001b[0;36m47\u001b[0m\u001b[0;34m)\u001b[0m\u001b[0;34m:\u001b[0m\u001b[0;34m\u001b[0m\u001b[0;34m\u001b[0m\u001b[0m\n\u001b[0;32m----> 3\u001b[0;31m     \u001b[0mest\u001b[0m \u001b[0;34m=\u001b[0m \u001b[0mgdf_est\u001b[0m\u001b[0;34m.\u001b[0m\u001b[0miloc\u001b[0m\u001b[0;34m[\u001b[0m\u001b[0ma\u001b[0m\u001b[0;34m]\u001b[0m\u001b[0;34m[\u001b[0m\u001b[0;34m'Name'\u001b[0m\u001b[0;34m]\u001b[0m\u001b[0;34m\u001b[0m\u001b[0;34m\u001b[0m\u001b[0m\n\u001b[0m\u001b[1;32m      4\u001b[0m     \u001b[0mfig\u001b[0m\u001b[0;34m,\u001b[0m \u001b[0maxes\u001b[0m \u001b[0;34m=\u001b[0m \u001b[0mplt\u001b[0m\u001b[0;34m.\u001b[0m\u001b[0msubplots\u001b[0m\u001b[0;34m(\u001b[0m\u001b[0;36m2\u001b[0m\u001b[0;34m,\u001b[0m\u001b[0;36m2\u001b[0m\u001b[0;34m,\u001b[0m\u001b[0mfigsize\u001b[0m\u001b[0;34m=\u001b[0m\u001b[0;34m(\u001b[0m\u001b[0;36m24\u001b[0m\u001b[0;34m,\u001b[0m\u001b[0;36m14\u001b[0m\u001b[0;34m)\u001b[0m\u001b[0;34m)\u001b[0m\u001b[0;34m\u001b[0m\u001b[0;34m\u001b[0m\u001b[0m\n\u001b[1;32m      5\u001b[0m     \u001b[0;31m#ax =\u001b[0m\u001b[0;34m\u001b[0m\u001b[0;34m\u001b[0m\u001b[0;34m\u001b[0m\u001b[0m\n",
      "\u001b[0;32m~/anaconda3/envs/geo_env/lib/python3.8/site-packages/pandas/core/indexing.py\u001b[0m in \u001b[0;36m__getitem__\u001b[0;34m(self, key)\u001b[0m\n\u001b[1;32m    877\u001b[0m \u001b[0;34m\u001b[0m\u001b[0m\n\u001b[1;32m    878\u001b[0m             \u001b[0mmaybe_callable\u001b[0m \u001b[0;34m=\u001b[0m \u001b[0mcom\u001b[0m\u001b[0;34m.\u001b[0m\u001b[0mapply_if_callable\u001b[0m\u001b[0;34m(\u001b[0m\u001b[0mkey\u001b[0m\u001b[0;34m,\u001b[0m \u001b[0mself\u001b[0m\u001b[0;34m.\u001b[0m\u001b[0mobj\u001b[0m\u001b[0;34m)\u001b[0m\u001b[0;34m\u001b[0m\u001b[0;34m\u001b[0m\u001b[0m\n\u001b[0;32m--> 879\u001b[0;31m             \u001b[0;32mreturn\u001b[0m \u001b[0mself\u001b[0m\u001b[0;34m.\u001b[0m\u001b[0m_getitem_axis\u001b[0m\u001b[0;34m(\u001b[0m\u001b[0mmaybe_callable\u001b[0m\u001b[0;34m,\u001b[0m \u001b[0maxis\u001b[0m\u001b[0;34m=\u001b[0m\u001b[0maxis\u001b[0m\u001b[0;34m)\u001b[0m\u001b[0;34m\u001b[0m\u001b[0;34m\u001b[0m\u001b[0m\n\u001b[0m\u001b[1;32m    880\u001b[0m \u001b[0;34m\u001b[0m\u001b[0m\n\u001b[1;32m    881\u001b[0m     \u001b[0;32mdef\u001b[0m \u001b[0m_is_scalar_access\u001b[0m\u001b[0;34m(\u001b[0m\u001b[0mself\u001b[0m\u001b[0;34m,\u001b[0m \u001b[0mkey\u001b[0m\u001b[0;34m:\u001b[0m \u001b[0mTuple\u001b[0m\u001b[0;34m)\u001b[0m\u001b[0;34m:\u001b[0m\u001b[0;34m\u001b[0m\u001b[0;34m\u001b[0m\u001b[0m\n",
      "\u001b[0;32m~/anaconda3/envs/geo_env/lib/python3.8/site-packages/pandas/core/indexing.py\u001b[0m in \u001b[0;36m_getitem_axis\u001b[0;34m(self, key, axis)\u001b[0m\n\u001b[1;32m   1494\u001b[0m \u001b[0;34m\u001b[0m\u001b[0m\n\u001b[1;32m   1495\u001b[0m             \u001b[0;31m# validate the location\u001b[0m\u001b[0;34m\u001b[0m\u001b[0;34m\u001b[0m\u001b[0;34m\u001b[0m\u001b[0m\n\u001b[0;32m-> 1496\u001b[0;31m             \u001b[0mself\u001b[0m\u001b[0;34m.\u001b[0m\u001b[0m_validate_integer\u001b[0m\u001b[0;34m(\u001b[0m\u001b[0mkey\u001b[0m\u001b[0;34m,\u001b[0m \u001b[0maxis\u001b[0m\u001b[0;34m)\u001b[0m\u001b[0;34m\u001b[0m\u001b[0;34m\u001b[0m\u001b[0m\n\u001b[0m\u001b[1;32m   1497\u001b[0m \u001b[0;34m\u001b[0m\u001b[0m\n\u001b[1;32m   1498\u001b[0m             \u001b[0;32mreturn\u001b[0m \u001b[0mself\u001b[0m\u001b[0;34m.\u001b[0m\u001b[0mobj\u001b[0m\u001b[0;34m.\u001b[0m\u001b[0m_ixs\u001b[0m\u001b[0;34m(\u001b[0m\u001b[0mkey\u001b[0m\u001b[0;34m,\u001b[0m \u001b[0maxis\u001b[0m\u001b[0;34m=\u001b[0m\u001b[0maxis\u001b[0m\u001b[0;34m)\u001b[0m\u001b[0;34m\u001b[0m\u001b[0;34m\u001b[0m\u001b[0m\n",
      "\u001b[0;32m~/anaconda3/envs/geo_env/lib/python3.8/site-packages/pandas/core/indexing.py\u001b[0m in \u001b[0;36m_validate_integer\u001b[0;34m(self, key, axis)\u001b[0m\n\u001b[1;32m   1435\u001b[0m         \u001b[0mlen_axis\u001b[0m \u001b[0;34m=\u001b[0m \u001b[0mlen\u001b[0m\u001b[0;34m(\u001b[0m\u001b[0mself\u001b[0m\u001b[0;34m.\u001b[0m\u001b[0mobj\u001b[0m\u001b[0;34m.\u001b[0m\u001b[0m_get_axis\u001b[0m\u001b[0;34m(\u001b[0m\u001b[0maxis\u001b[0m\u001b[0;34m)\u001b[0m\u001b[0;34m)\u001b[0m\u001b[0;34m\u001b[0m\u001b[0;34m\u001b[0m\u001b[0m\n\u001b[1;32m   1436\u001b[0m         \u001b[0;32mif\u001b[0m \u001b[0mkey\u001b[0m \u001b[0;34m>=\u001b[0m \u001b[0mlen_axis\u001b[0m \u001b[0;32mor\u001b[0m \u001b[0mkey\u001b[0m \u001b[0;34m<\u001b[0m \u001b[0;34m-\u001b[0m\u001b[0mlen_axis\u001b[0m\u001b[0;34m:\u001b[0m\u001b[0;34m\u001b[0m\u001b[0;34m\u001b[0m\u001b[0m\n\u001b[0;32m-> 1437\u001b[0;31m             \u001b[0;32mraise\u001b[0m \u001b[0mIndexError\u001b[0m\u001b[0;34m(\u001b[0m\u001b[0;34m\"single positional indexer is out-of-bounds\"\u001b[0m\u001b[0;34m)\u001b[0m\u001b[0;34m\u001b[0m\u001b[0;34m\u001b[0m\u001b[0m\n\u001b[0m\u001b[1;32m   1438\u001b[0m \u001b[0;34m\u001b[0m\u001b[0m\n\u001b[1;32m   1439\u001b[0m     \u001b[0;31m# -------------------------------------------------------------------\u001b[0m\u001b[0;34m\u001b[0m\u001b[0;34m\u001b[0m\u001b[0;34m\u001b[0m\u001b[0m\n",
      "\u001b[0;31mIndexError\u001b[0m: single positional indexer is out-of-bounds"
     ]
    }
   ],
   "source": [
    "errors = []\n",
    "for est in gdf_est.Name.unique():\n",
    "    fig, axes = plt.subplots(2,2,figsize=(24,14))\n",
    "    #ax = \n",
    "    \n",
    "    #emisiones de transporte\n",
    "    ax = axes[0,1]\n",
    "    \n",
    "    edges[edges['Estacion'] == est].plot(ax=ax, color='w', zorder=1, alpha=0.25, linewidth=1)\n",
    "    gdf_est_tpt[gdf_est_tpt['Name'] == est].plot(ax=ax, column ='tonCO₂eq', cmap='YlOrRd', markersize=gdf_est_tpt[gdf_est_tpt['Name'] == est]['tonCO₂eq']*500, alpha=0.85, zorder=3, vmin=gdf_est_tpt['tonCO₂eq'].min(), vmax=gdf_est_tpt['tonCO₂eq'].max())\n",
    "    ax.set_title('{}\\n{:,} tonCO2eq anual'.format('Emisiones de transporte', round(gdf_est_tpt[gdf_est_tpt['Name'] == est]['tonCO₂eq'].values[0],2)), fontsize=15)\n",
    "    ax.axis('off')\n",
    "    #ax.set_visible(False)\n",
    "    \n",
    "    #emisiones de edificios\n",
    "    ax=axes[1,0]\n",
    "    \n",
    "    #est = edificios_gob_.at[i,'Name']\n",
    "    edges[edges['Estacion'] == est].plot(ax=ax, color='w', zorder=1, alpha=0.25, linewidth=1)\n",
    "    edificios_gob_[edificios_gob_['Name'] == est].plot(ax=ax, column ='tonCO₂eq', cmap='YlOrRd', markersize=edificios_gob_[edificios_gob_['Name'] == est]['tonCO₂eq']*20, alpha=0.85, zorder=3, vmin=edificios_gob_['tonCO₂eq'].min(), vmax=edificios_gob_['tonCO₂eq'].max())\n",
    "    gob.plot(ax=ax, color='#7A76C2', zorder=2)\n",
    "    \n",
    "    minx, miny, maxx, maxy = edges.loc[edges.Estacion==est].geometry.total_bounds\n",
    "    ax.set_xlim(minx - .1, maxx + .1) # added/substracted value is to give some margin around total bounds\n",
    "    ax.set_ylim(miny - .1, maxy + .1)\n",
    "    \n",
    "    ax.set_title('{}\\n{:,} tonCO2eq anuales'.format('Emisiones de edificios', round(edificios_gob_[edificios_gob_['Name'] == est]['tonCO₂eq'].values[0],2)), fontsize=15)\n",
    "    ax.axis('off')\n",
    "    \n",
    "    #potencial solar\n",
    "    ax = axes[1,1]\n",
    "        \n",
    "    gdf_[gdf_['Estacion'] == est].plot(ax=ax, color='#7A76C2', zorder=2)\n",
    "    edges[edges['Estacion'] == est].plot(ax=ax, color='w', zorder=1, alpha=0.25, linewidth=1)\n",
    "    gdf_est_pot[gdf_est_pot['Name'] == est].plot(ax=ax, column ='kWh_year', cmap='YlOrRd', markersize=gdf_est_pot[gdf_est_pot['Name'] == est]['kWh_year']/50000, alpha=0.85, zorder=3, vmin=gdf_est_pot['kWh_year'].min(), vmax=gdf_est_pot['kWh_year'].max())\n",
    "    ax.set_title('{}\\n{:,} kWh anuales'.format('Potencial solar', round(gdf_est_pot[gdf_est_pot['Name'] == est]['kWh_year'].values[0],2)), fontsize=15)\n",
    "    ax.axis('off')\n",
    "    \n",
    "            \n",
    "    a00 = axes[0,0]\n",
    "    shax = a00.get_shared_x_axes()\n",
    "    shax.remove(a00)\n",
    "    a00.set_title('Ubicación', fontsize=15)\n",
    "    edges_amg.plot(ax=a00, color='#e8e9eb',linewidth=0.1, zorder=-1)\n",
    "    edges_amg[(edges_amg['highway']=='primary') | (edges_amg['highway']=='secondary')].plot(ax=a00, color='#e8e9eb',linewidth=0.5, zorder=0)\n",
    "    gdf_est.plot(ax=a00, color='k', alpha=0.85, zorder=1)\n",
    "    gdf_est[gdf_est['Name']==est].plot(ax=a00, color='#ba0d38', alpha=0.85, zorder=2, markersize=150)\n",
    "    a00.axis('off')\n",
    "    \n",
    "    name_est = est.split(' ',maxsplit=1)[1]\n",
    "    \n",
    "    fig.suptitle(f'Estación {name_est}\\n Línea base con Google EIE', fontsize=30)\n",
    "    plt.savefig(f'../output/figures/google_eie/{est}_GoogleEIE.png',dpi=300)\n",
    "    plt.savefig(f'../output/figures/google_eie/{est}_GoogleEIE.svg',dpi=300)\n",
    "    plt.close()"
   ]
  },
  {
   "cell_type": "code",
   "execution_count": null,
   "metadata": {},
   "outputs": [],
   "source": []
  }
 ],
 "metadata": {
  "kernelspec": {
   "display_name": "Python 3.8.3 64-bit ('geo_env': conda)",
   "language": "python",
   "name": "python38364bitgeoenvconda2cb6af09078d46c89f7c036ca6304ba0"
  },
  "language_info": {
   "codemirror_mode": {
    "name": "ipython",
    "version": 3
   },
   "file_extension": ".py",
   "mimetype": "text/x-python",
   "name": "python",
   "nbconvert_exporter": "python",
   "pygments_lexer": "ipython3",
   "version": "3.8.3"
  }
 },
 "nbformat": 4,
 "nbformat_minor": 4
}
