{
 "cells": [
  {
   "cell_type": "markdown",
   "metadata": {
    "id": "gXMGQXA2VjkQ"
   },
   "source": [
    "# Smart Citizen - sensores electrónicos fijos de monitoreo de la calidad del aire"
   ]
  },
  {
   "cell_type": "markdown",
   "metadata": {
    "id": "uhKitrm7VjkT"
   },
   "source": [
    "Este notebook muestra el proceso que se sigue para trabajar con los datos de los sensores electrónicos móviles de [Smart Citizen](https://smartcitizen.me/kits/). Los datos con los que se trabaja fueron recopilados del portal de la api de Plume, verificados y procesados, y actualmente se encuentran guardados en la base de datos del proyecto [Prototipos de Infraestructura Pública para una Ciudad del Futuro](https://pipciudadfuturo.com/).\n",
    "\n",
    "El notebook consta de las siguientes partes:\n",
    "\n",
    "+ Librerías utilizadas\n",
    "+ Descarga de datos\n",
    "+ Análisis básicos y filtrado de datos\n",
    "+ Visualización de datos\n",
    "+ Guardado de datos"
   ]
  },
  {
   "cell_type": "markdown",
   "metadata": {
    "id": "NJcogC5tVjkT"
   },
   "source": [
    "## Librerías\n",
    "\n",
    "Para interactuar con la base de datos y generar el procesmiento de los diferentes datos hemos desarrollado una librería propia `aqiGDL` que almacena las diferentes funciones que son requeridas para el trabajo. Además de la librería desarrollada por [LAC](https://lac.mx) para el proyecto, también se utilizan otras librerías de python para el análisis y visualización de datos."
   ]
  },
  {
   "cell_type": "code",
   "execution_count": null,
   "metadata": {
    "colab": {
     "base_uri": "https://localhost:8080/"
    },
    "executionInfo": {
     "elapsed": 10343,
     "status": "ok",
     "timestamp": 1625868365800,
     "user": {
      "displayName": "Edgar Egurrola",
      "photoUrl": "",
      "userId": "05916952002412809273"
     },
     "user_tz": 300
    },
    "id": "f2s6dE2HP-jI",
    "outputId": "e0617fc4-f911-441e-ce0b-6eeb0faef634"
   },
   "outputs": [],
   "source": [
    "!pip install osmnx\n",
    "!pip install requests\n",
    "!pip install movingpandas"
   ]
  },
  {
   "cell_type": "code",
   "execution_count": null,
   "metadata": {
    "colab": {
     "base_uri": "https://localhost:8080/"
    },
    "executionInfo": {
     "elapsed": 295,
     "status": "ok",
     "timestamp": 1625868388533,
     "user": {
      "displayName": "Edgar Egurrola",
      "photoUrl": "",
      "userId": "05916952002412809273"
     },
     "user_tz": 300
    },
    "id": "cdAJC9w7Qlmf",
    "outputId": "92f66b01-f575-464c-fb0a-e8052c6d34ea"
   },
   "outputs": [],
   "source": [
    "!git clone https://github.com/lac-analytics/gdlaire.git"
   ]
  },
  {
   "cell_type": "markdown",
   "metadata": {},
   "source": [
    "#### *Antes de correr el código es necesario dirigirse a la carpeta gdlaire/aqiGDL y posteriormente al archivo data.py. En este es necesario agregar un símbolo de # a la línea de código: from datosgobmx import client. Con esto se comenta este módulo que no se podrá cargar en nuestro Notebook:\n",
    "+ #from datosgobmx import client"
   ]
  },
  {
   "cell_type": "code",
   "execution_count": null,
   "metadata": {
    "id": "97eGXj3JVjkU",
    "outputId": "3a2c6841-af01-4321-dcd6-76dacff572f0"
   },
   "outputs": [],
   "source": [
    "import os\n",
    "import sys\n",
    "import osmnx as ox\n",
    "import geopandas as gpd\n",
    "import pandas as pd\n",
    "import matplotlib.pyplot as plt\n",
    "import matplotlib as mpl\n",
    "import numpy as np\n",
    "module_path = os.path.abspath(os.path.join('..'))\n",
    "if module_path not in sys.path:\n",
    "    sys.path.append(module_path)\n",
    "    import aqiGDL\n",
    "%matplotlib inline\n",
    "\n",
    "\n",
    "#graph\n",
    "import datetime\n",
    "import textwrap"
   ]
  },
  {
   "cell_type": "markdown",
   "metadata": {
    "id": "9dR_I28eVjkY"
   },
   "source": [
    "### Estilos visuales\n",
    "Utilizamos el estilo visual \"Pitaya Smoothie\" para la generación de gráficas."
   ]
  },
  {
   "cell_type": "code",
   "execution_count": null,
   "metadata": {
    "id": "XGqTrYreVjkZ"
   },
   "outputs": [],
   "source": [
    "plt.style.use('https://github.com/dhaitz/matplotlib-stylesheets/raw/master/pitayasmoothie-dark.mplstyle')\n",
    "colors = ['7A76C2', 'ff6e9c98', 'f62196', '18c0c4', 'f3907e', '66E9EC']"
   ]
  },
  {
   "cell_type": "markdown",
   "metadata": {
    "id": "_VePkEzyVjka"
   },
   "source": [
    "## Descarga de datos\n",
    "\n",
    "### Datos históricos de calidad del aire registrados por los sensores\n",
    "\n",
    "Los datos históricos de exposición a contaminantes atmosféricos durante desplazamientos han sido descargados desde la api de Smart Citizen. Actualmente los datos están disponibles desde la base de datos de PIP."
   ]
  },
  {
   "cell_type": "code",
   "execution_count": null,
   "metadata": {
    "id": "HINgGsKPVjka",
    "outputId": "aa731d6f-6653-4a14-e60a-4da3a4e0d57c"
   },
   "outputs": [],
   "source": [
    "gdf = aqiGDL.gdf_from_db('smartcitizen', 'public')\n",
    "gdf"
   ]
  },
  {
   "cell_type": "markdown",
   "metadata": {
    "id": "6WMM_5DUVjkc"
   },
   "source": [
    "### Red vial de Guadalajara\n",
    "\n",
    "Con [OSMnx](https://osmnx.readthedocs.io/en/stable/) se descarga la red vial para el área de los sensores"
   ]
  },
  {
   "cell_type": "code",
   "execution_count": null,
   "metadata": {
    "id": "Zw6_oqP-Vjkc"
   },
   "outputs": [],
   "source": [
    "G = ox.graph_from_bbox(20.7900,20.523110,-103.2400,-103.4700)\n",
    "edges = ox.graph_to_gdfs(G, nodes=False)"
   ]
  },
  {
   "cell_type": "markdown",
   "metadata": {
    "id": "375cK1aqVjkd"
   },
   "source": [
    "## Análisis básicos y filtrado de datos\n",
    "\n",
    "### GeoDataFrame con ubicación de sensores\n",
    "\n",
    "A partir de la tabla que se encuentra en la base de datos de PIP podemos hacer una agrupación por identificador del dispositivo de medición, al agrupar esta obtenemos las coordenadas de cada dispositivo. Al guardar estos datos en una nueva tabla podemos acceder a las ubicacioens más adelante."
   ]
  },
  {
   "cell_type": "code",
   "execution_count": null,
   "metadata": {
    "id": "OzGW2ioqVjkd",
    "outputId": "fe1ae7d9-6962-4651-c65a-7c543a1f89c8"
   },
   "outputs": [],
   "source": [
    "gdf_est = gdf[['device_id','lon','lat']].groupby('device_id').mean()\n",
    "gdf_est = gpd.GeoDataFrame(\n",
    "    gdf_est, geometry=gpd.points_from_xy(gdf_est.lon, gdf_est.lat))\n",
    "gdf_est.head(2)"
   ]
  },
  {
   "cell_type": "markdown",
   "metadata": {
    "id": "jNDNAdJvVjkd"
   },
   "source": [
    "### Información de contaminantes por registro\n",
    "\n",
    "Desde nuestra tabla original, y utilizando el argumento unique, podemos observar cuales son los parámetros que los sensores de Smart Citizen están registrando para cada ubicación. Estos los vamos a utilizar más adelante para graficar el comportamiento de la contaminación en distintos puntos."
   ]
  },
  {
   "cell_type": "code",
   "execution_count": null,
   "metadata": {
    "id": "RAW2dFdiVjke",
    "outputId": "f5ab7330-6177-4776-f430-f304195ed363"
   },
   "outputs": [],
   "source": [
    "gdf['param'].unique()"
   ]
  },
  {
   "cell_type": "markdown",
   "metadata": {
    "id": "qxSFiCcNVjke"
   },
   "source": [
    "### Dispositivos disponibles\n",
    "\n",
    "De igual forma, con unique, podemos ver todos los identificadores de djispositivos que tenemos disponibles para consultas."
   ]
  },
  {
   "cell_type": "code",
   "execution_count": null,
   "metadata": {
    "id": "hHARp5ORVjke",
    "outputId": "9ae5dc49-303a-420e-9f68-d3e2baeb36c7"
   },
   "outputs": [],
   "source": [
    "gdf.device_id.unique()"
   ]
  },
  {
   "cell_type": "markdown",
   "metadata": {
    "id": "8ec5dR0xVjke"
   },
   "source": [
    "### Filtrado de datos por parámetro y dispositivo\n",
    "\n",
    "Podemos hacer una prueba de filtrado de los datos de nuestra tabla original utilizando como filtro uno de los parámetros y de los identificadores de los dispositivos. En este caso vamos a utilizar los compuestos orgánicos volátiles para el dispositivo 13483."
   ]
  },
  {
   "cell_type": "code",
   "execution_count": null,
   "metadata": {
    "id": "-xv2S3BHVjkf",
    "outputId": "533338c6-2ce9-4400-c431-5b2bd582c8e7"
   },
   "outputs": [],
   "source": [
    "gdf_param = gdf.loc[(gdf.param=='Total Volatile Organic Compounds Digital Indoor Sensor')&(gdf.device_id==13483)]\n",
    "gdf_param.head(2)"
   ]
  },
  {
   "cell_type": "markdown",
   "metadata": {
    "id": "HAwpJUIXVjkf"
   },
   "source": [
    "### Manejo de fechas\n",
    "\n",
    "Debido a que las fechas tienen una mayor resolución temporal de la que necesitamos, vamos a hacer un tratamiento de datos para que queden agrupados por día y nos muestre los promedios diarios de concentración."
   ]
  },
  {
   "cell_type": "code",
   "execution_count": null,
   "metadata": {
    "id": "LZwj2N3HVjkf",
    "outputId": "539899d4-e64b-441e-f6bd-f740c257892c"
   },
   "outputs": [],
   "source": [
    "pd.options.mode.chained_assignment = None\n",
    "gdf_param['date'] = pd.to_datetime(gdf_param['date'])\n",
    "gdf_param.set_index('date',inplace=True)\n",
    "gdf_param = gdf_param.resample('D').mean()\n",
    "gdf_param.head(2)"
   ]
  },
  {
   "cell_type": "markdown",
   "metadata": {
    "id": "da-7Dy9nVjkg"
   },
   "source": [
    "Además, podemos visualizar distintas agrupaciones de los datos utilizando \"rolling\", que nos permite hacer promedios móviles en ventanas específicas. En este caso, vamos a seleccionar promedios cada tercer día. Es posible observar que los primeros dos valores no tienen datos debido a que no cumplen con el valor mínimo establecido de 3."
   ]
  },
  {
   "cell_type": "code",
   "execution_count": null,
   "metadata": {
    "id": "OA0G0KZGVjkg",
    "outputId": "7b1a1c9f-911a-4d0e-f2d2-49e33f0c0365"
   },
   "outputs": [],
   "source": [
    "gdf_param.rolling(3).mean().head(5)"
   ]
  },
  {
   "cell_type": "markdown",
   "metadata": {
    "id": "rJ5y9lz-Vjkg"
   },
   "source": [
    "### Primera visualización básica\n",
    "\n",
    "Con los datos de fecha y de concentración en gdf_param podemos hacer una visualización rápida en la que tenemos en las \"y\" las concentraciones de compuestos orgánicos volátiles y en \"x\" nuestras fechas por día."
   ]
  },
  {
   "cell_type": "code",
   "execution_count": null,
   "metadata": {
    "id": "PMQDM8uOVjkh",
    "outputId": "f210464e-2227-432f-9f06-61b16ea307c6"
   },
   "outputs": [],
   "source": [
    "plt.scatter(gdf_param.index, gdf_param['value'])"
   ]
  },
  {
   "cell_type": "markdown",
   "metadata": {
    "id": "7MuqACjUVjkh"
   },
   "source": [
    "## Visualización de datos\n",
    "\n",
    "Para hacer visualizaciones más avanzadas podemos utilizar la siguiente función (graph_smartcitizen), en la que tenemos como datos de entrada el número de dispositivo (device), el parámetro de interés (param), el GeoDataFrame descargado directamente de la base de datos de PIP (gdf), el GeoDataFrame que creamos previamente para las estaciones (gdf_est) y las vialidades descargadas de OSMnx (edges). Además, podemos determinar si queremos que la gráfica resultante se guarde (save)."
   ]
  },
  {
   "cell_type": "code",
   "execution_count": null,
   "metadata": {
    "id": "mQPEV75fVjkh"
   },
   "outputs": [],
   "source": [
    "def graph_smartcitizen(device, param, gdf, gdf_est, edges, save=False):\n",
    "\n",
    "    fig, axes = plt.subplots(1,2,figsize=(24,8), sharex=True)\n",
    "\n",
    "    df_temp = gdf[(gdf['device_id']==device) & (gdf['param']==param)].copy()\n",
    "    df_temp['date'] = pd.to_datetime(df_temp['date'])\n",
    "    df_temp.set_index('date',inplace=True)\n",
    "    df_temp = df_temp.resample('D').mean()\n",
    "    axes[1].scatter(df_temp.index, df_temp['value'], label=param)\n",
    "\n",
    "    title = textwrap.fill(param, 35)\n",
    "    axes[1].set_title(title,fontsize=20)\n",
    "    axes[1].tick_params(axis='x',labelrotation=45)\n",
    "\n",
    "\n",
    "    x_ticks = np.arange(0, len(df_temp.index),15)\n",
    "\n",
    "    a00 = axes[0]\n",
    "    shax = a00.get_shared_x_axes()\n",
    "    shax.remove(a00)\n",
    "    edges.plot(ax=axes[0], color='#e8e9eb',linewidth=0.1, zorder=-1)\n",
    "    edges[(edges['highway']=='primary') | (edges['highway']=='secondary')].plot(ax=axes[0], color='#e8e9eb',linewidth=0.5, zorder=0)\n",
    "    gdf_est.plot(ax=axes[0], color='k', alpha=0.85, zorder=1)\n",
    "    gdf_est[gdf_est.index==device].plot(ax=axes[0], color='#ba0d38', alpha=0.85, zorder=2, markersize=90)\n",
    "    axes[0].axis('off')\n",
    "    estacion = device\n",
    "    fecha_1 = df_temp.index.min().strftime(\"%Y-%m-%d\")\n",
    "    fecha_2 = df_temp.index.max().strftime(\"%Y-%m-%d\")\n",
    "    fig.suptitle(f'Device: {estacion}\\n{fecha_1} -- {fecha_2}', fontsize=30)\n",
    "\n",
    "    if save==True:\n",
    "        plt.savefig(f'{device}_{fecha_1}_{fecha_2}.png',dpi=300)\n",
    "\n",
    "    return plt.show()"
   ]
  },
  {
   "cell_type": "markdown",
   "metadata": {
    "id": "_swZ4oEXVjki"
   },
   "source": [
    "### Ejemplo\n",
    "\n",
    "\n",
    "Corriendo esta función podemos ver la localización del sensor que estamos analizando y su referencia con los otros sensores, aunado a la distribución de los contaminantes por día. En este caso utilizamos el dispositivo 13483 y el parámetro de concentración para Material Particulado Menor a 10 Micras (PM10)."
   ]
  },
  {
   "cell_type": "code",
   "execution_count": null,
   "metadata": {
    "id": "9CikOzg4Vjki",
    "outputId": "4d01a9d3-4b28-4435-f13c-19b148f65640"
   },
   "outputs": [],
   "source": [
    "est = 13483\n",
    "param = 'Particle Matter PM 10'\n",
    "\n",
    "graph_smartcitizen(est, param, gdf, gdf_est, edges, save=False)"
   ]
  },
  {
   "cell_type": "markdown",
   "metadata": {
    "id": "R2YGuBK1Vjkj"
   },
   "source": [
    "### Pruebas\n",
    "\n",
    "Puedes agregar distintos sensores y probar con diferentes parámetros para observar los resultados que se obtienen en cada caso.\n",
    "\n",
    "Para guardar las figuras resultantes es posible cambiar save a True."
   ]
  },
  {
   "cell_type": "code",
   "execution_count": null,
   "metadata": {
    "id": "pnSYAg_8Vjkj"
   },
   "outputs": [],
   "source": [
    "est = ##\n",
    "param = '..'\n",
    "\n",
    "graph_smartcitizen(est, param, gdf, gdf_est, edges, save=False)"
   ]
  },
  {
   "cell_type": "markdown",
   "metadata": {
    "id": "zmWBGJ7nVjkj"
   },
   "source": [
    "## Guardado de datos\n",
    "\n",
    "Para guardar la base de datos completa se puede utilizar gdf.to_file(), sin embargo, si se hace un filtrado de datos (como el que se muestra en gdf_param) se puede utilizar to_file para guardar solo los datos de interés.\n",
    "\n",
    "### GeoJSON\n",
    "Es posible guardar el GeoDataFrame como un geojson, que es un formato de tabla con información espacial, el nombre del archivo lo podemos asignar en la variable name."
   ]
  },
  {
   "cell_type": "code",
   "execution_count": null,
   "metadata": {
    "id": "4vhB50ekVjkj"
   },
   "outputs": [],
   "source": [
    "name = '..'\n",
    "\n",
    "gdf.to_file(f'{name}_GeoDataFrame.geojson',driver='GeoJSON')"
   ]
  },
  {
   "cell_type": "markdown",
   "metadata": {
    "id": "vmxVzV1EVjkj"
   },
   "source": [
    "### csv\n",
    "También, es posible guardar el GeoDataFrame como una tabla csv, al igual que en el GeoJSON, el nombre del archivo lo podemos asignar en la variable name."
   ]
  },
  {
   "cell_type": "code",
   "execution_count": null,
   "metadata": {
    "id": "fINvI275Vjkk"
   },
   "outputs": [],
   "source": [
    "name = 'tmp'\n",
    "\n",
    "gdf.to_csv(f'{name}_.csv')"
   ]
  }
 ],
 "metadata": {
  "colab": {
   "name": "Copy of 03-SmartCitizen-Data.ipynb",
   "provenance": [
    {
     "file_id": "https://github.com/lac-analytics/gdlaire/blob/main/demo/03-SmartCitizen-Data.ipynb",
     "timestamp": 1625768244289
    }
   ]
  },
  "kernelspec": {
   "display_name": "Python 3.8.3 64-bit ('geo_env': conda)",
   "language": "python",
   "name": "python38364bitgeoenvconda2cb6af09078d46c89f7c036ca6304ba0"
  },
  "language_info": {
   "codemirror_mode": {
    "name": "ipython",
    "version": 3
   },
   "file_extension": ".py",
   "mimetype": "text/x-python",
   "name": "python",
   "nbconvert_exporter": "python",
   "pygments_lexer": "ipython3",
   "version": "3.8.3"
  }
 },
 "nbformat": 4,
 "nbformat_minor": 4
}
